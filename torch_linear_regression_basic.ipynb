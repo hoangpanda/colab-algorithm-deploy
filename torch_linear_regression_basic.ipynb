{
  "nbformat": 4,
  "nbformat_minor": 0,
  "metadata": {
    "colab": {
      "provenance": [],
      "gpuType": "T4",
      "authorship_tag": "ABX9TyOWApEJ03pMdzFnBwicP/iL",
      "include_colab_link": true
    },
    "kernelspec": {
      "name": "python3",
      "display_name": "Python 3"
    },
    "language_info": {
      "name": "python"
    },
    "accelerator": "GPU"
  },
  "cells": [
    {
      "cell_type": "markdown",
      "metadata": {
        "id": "view-in-github",
        "colab_type": "text"
      },
      "source": [
        "<a href=\"https://colab.research.google.com/github/hoangpanda/colab-algorithm-deploy/blob/main/torch_linear_regression_basic.ipynb\" target=\"_parent\"><img src=\"https://colab.research.google.com/assets/colab-badge.svg\" alt=\"Open In Colab\"/></a>"
      ]
    },
    {
      "cell_type": "code",
      "execution_count": 94,
      "metadata": {
        "id": "kYigaiLRpgxr"
      },
      "outputs": [],
      "source": [
        "import torch\n",
        "import numpy as np"
      ]
    },
    {
      "cell_type": "markdown",
      "source": [
        "**Create Tensor**\n"
      ],
      "metadata": {
        "id": "ejssau7XuV4V"
      }
    },
    {
      "cell_type": "code",
      "source": [
        "# create a tensor from list\n",
        "t = torch.tensor([[1,2,3], [4,5,6]])\n",
        "print(t)\n",
        "\n",
        "# create a tensor with previous shape(2,3) ~ normal distribution with mean = 1, variance = 0\n",
        "t = torch.randn(2,1)\n",
        "print(t)\n",
        "\n",
        "# create a tensor with a given previous shape and all elements are equal to one\n",
        "t = torch.ones(2,1)\n",
        "print(t)\n",
        "\n",
        "# create a tensor with a give previous shape and all element are equal to zero\n",
        "t = torch.zeros(2,1)\n",
        "print(t)\n",
        "\n",
        "# create a tensor with a given previous shape with a value between [low, high]\n",
        "t = torch.randint(low=0, high=10, size=(2,3))\n",
        "print(t)\n",
        "\n",
        "# convert numpy to tensor using torch.from_numpy()\n",
        "a = np.array([1,2,3])\n",
        "t = torch.from_numpy(a)\n",
        "print(t)\n",
        "\n",
        "# convert tensor to numpy using .numpy()\n",
        "t = t.numpy()\n",
        "print(t)"
      ],
      "metadata": {
        "colab": {
          "base_uri": "https://localhost:8080/"
        },
        "id": "2Au5c60Lr8YG",
        "outputId": "16f24f7e-9ce5-40d1-f668-54c8b25d3040"
      },
      "execution_count": 95,
      "outputs": [
        {
          "output_type": "stream",
          "name": "stdout",
          "text": [
            "tensor([[1, 2, 3],\n",
            "        [4, 5, 6]])\n",
            "tensor([[-0.5198],\n",
            "        [ 0.7965]])\n",
            "tensor([[1.],\n",
            "        [1.]])\n",
            "tensor([[0.],\n",
            "        [0.]])\n",
            "tensor([[9, 2, 3],\n",
            "        [5, 0, 0]])\n",
            "tensor([1, 2, 3])\n",
            "[1 2 3]\n"
          ]
        }
      ]
    },
    {
      "cell_type": "markdown",
      "source": [
        "**Tensor Operator**\n"
      ],
      "metadata": {
        "id": "L9K1Qy1h7whx"
      }
    },
    {
      "cell_type": "code",
      "source": [
        "a = torch.randn(2,4)\n",
        "b = torch.randn(4,2)\n",
        "\n",
        "# multiply 2 matrix\n",
        "t = a.mm(b) # can use a.matmul(b)\n",
        "#print(t)\n",
        "\n",
        "# transpose matrix\n",
        "t = t.T # can use t.t()\n",
        "#print(t)\n",
        "\n",
        "# square each element in t\n",
        "t = torch.tensor([1,2])\n",
        "t = t**2\n",
        "#print(t)\n",
        "\n",
        "# return size of tensor\n",
        "#print(t.shape) # can use .size()\n",
        "\n",
        "# Flatten Tensor from (a,b) to (1, a*b)\n",
        "t = torch.rand(2,4)\n",
        "#print(t)\n",
        "t = t.flatten()\n",
        "#print(t)\n",
        "\n",
        "t = torch.tensor([1,2])\n",
        "#print('original shape:\\t',t.shape)\n",
        "#print(t)\n",
        "t = t.unsqueeze(0)\n",
        "#print(t)\n",
        "#print('dim 0:\\t',t.shape)\n",
        "\n",
        "t = torch.tensor([1,2])\n",
        "t = t.unsqueeze(1)\n",
        "#print(t)\n",
        "#print('dim 1:\\t',t.shape)\n",
        "\n",
        "# transpose\n",
        "t = torch.rand(2,3)\n",
        "print(t)\n",
        "t1 = t\n",
        "t2 = t\n",
        "t1 = t1.t()\n",
        "print(t1)\n",
        "t2 = t2.transpose(0,1)\n",
        "print(t2)\n",
        "\n",
        "# view: reduce demension\n",
        "t = t.view(t.shape[0]*t.shape[1])\n",
        "print(t)"
      ],
      "metadata": {
        "colab": {
          "base_uri": "https://localhost:8080/"
        },
        "id": "ZWOw1uGS7zGg",
        "outputId": "30d18df4-a4b3-4d24-b522-06ace52c7bb1"
      },
      "execution_count": 96,
      "outputs": [
        {
          "output_type": "stream",
          "name": "stdout",
          "text": [
            "tensor([[0.5525, 0.8761, 0.3610],\n",
            "        [0.4348, 0.6531, 0.1288]])\n",
            "tensor([[0.5525, 0.4348],\n",
            "        [0.8761, 0.6531],\n",
            "        [0.3610, 0.1288]])\n",
            "tensor([[0.5525, 0.4348],\n",
            "        [0.8761, 0.6531],\n",
            "        [0.3610, 0.1288]])\n",
            "tensor([0.5525, 0.8761, 0.3610, 0.4348, 0.6531, 0.1288])\n"
          ]
        }
      ]
    },
    {
      "cell_type": "markdown",
      "source": [
        "**Create model using pytorch**"
      ],
      "metadata": {
        "id": "nbqVlUtHHJ5y"
      }
    },
    {
      "cell_type": "code",
      "source": [
        "class MySimpleModel(torch.nn.Module):\n",
        "  def __init__():\n",
        "    super().__init__()\n",
        "    # define layer\n",
        "    self.lin1 = nn.Linear(256, 128)\n",
        "    self.lin2 = nn.Linear(128, 10)\n",
        "\n",
        "  def forward(self, x):\n",
        "    # connect layer\n",
        "    x = self.lin1(x)\n",
        "    x = self.lin2(x)\n",
        "    return x"
      ],
      "metadata": {
        "id": "UFSLt5YPHMv7"
      },
      "execution_count": 97,
      "outputs": []
    },
    {
      "cell_type": "code",
      "source": [
        "class SkipConnection(torch.nn.Module):\n",
        "  def __init__():\n",
        "    super().__init__()\n",
        "    # define layer\n",
        "    self.layer1 = nn.Linear(256, 128)\n",
        "    self.layer2 = nn.Linear(128, 256)\n",
        "    self.layer3 = nn.Linear(128, 10)\n",
        "\n",
        "  def forward(self, x):\n",
        "    # connect layer\n",
        "    x_out1 = self.layer1(x)\n",
        "    x_out2 = x + self.layer2(x_out1)\n",
        "    x_out2 = self.layer1(x_out2)\n",
        "    x = self.layer3(x_out2)\n",
        "    return x"
      ],
      "metadata": {
        "id": "hSniw1spI3vp"
      },
      "execution_count": 98,
      "outputs": []
    },
    {
      "cell_type": "code",
      "source": [
        "import torch.nn as nn\n",
        "import torch\n",
        "\n",
        "t = torch.rand(1, 3, 256, 256)\n",
        "print(t.shape)\n",
        "\n",
        "layers = nn.Conv2d(3, 256, (3,3), 2)\n",
        "print(layers(t).shape)"
      ],
      "metadata": {
        "colab": {
          "base_uri": "https://localhost:8080/"
        },
        "id": "0JWoOiWkMATJ",
        "outputId": "0e2c1f4c-9034-4e0e-b00e-9ccb4c21a747"
      },
      "execution_count": 99,
      "outputs": [
        {
          "output_type": "stream",
          "name": "stdout",
          "text": [
            "torch.Size([1, 3, 256, 256])\n",
            "torch.Size([1, 256, 127, 127])\n"
          ]
        }
      ]
    },
    {
      "cell_type": "code",
      "source": [
        "import torch\n",
        "import numpy as np\n",
        "import matplotlib.pyplot as plt\n",
        "\n",
        "car_prices = [3,4,5,6,7,8,9]\n",
        "car_prices = torch.FloatTensor(car_prices)\n",
        "print(car_prices)\n",
        "\n",
        "num_car_sell = [7.5, 7, 6.5, 6.0, 5.5, 5.0, 4.5]\n",
        "num_car_sell = torch.FloatTensor(num_car_sell)\n",
        "\n",
        "plt.scatter(car_prices, num_car_sell)\n",
        "plt.xlabel('car prices')\n",
        "plt.ylabel('num car sell')\n",
        "plt.title('car price VS num car sell')"
      ],
      "metadata": {
        "colab": {
          "base_uri": "https://localhost:8080/",
          "height": 507
        },
        "id": "gXAPMY-HUjf7",
        "outputId": "9dc840fe-cb1c-4c95-cf17-910bd1d09f33"
      },
      "execution_count": 100,
      "outputs": [
        {
          "output_type": "stream",
          "name": "stdout",
          "text": [
            "tensor([3., 4., 5., 6., 7., 8., 9.])\n"
          ]
        },
        {
          "output_type": "execute_result",
          "data": {
            "text/plain": [
              "Text(0.5, 1.0, 'car price VS num car sell')"
            ]
          },
          "metadata": {},
          "execution_count": 100
        },
        {
          "output_type": "display_data",
          "data": {
            "text/plain": [
              "<Figure size 640x480 with 1 Axes>"
            ],
            "image/png": "[encoded data removed]"
          },
          "metadata": {}
        }
      ]
    },
    {
      "cell_type": "code",
      "source": [
        "car_prices = car_prices.unsqueeze(0)\n",
        "num_car_sell = num_car_sell.unsqueeze(0)\n",
        "print(car_prices)\n",
        "print(car_prices.shape)\n",
        "print(num_car_sell)\n",
        "print(num_car_sell.shape)"
      ],
      "metadata": {
        "colab": {
          "base_uri": "https://localhost:8080/"
        },
        "id": "0On8ifpYXjwa",
        "outputId": "c28d5e8d-185e-4fe3-f49e-a58adf8aea90"
      },
      "execution_count": 101,
      "outputs": [
        {
          "output_type": "stream",
          "name": "stdout",
          "text": [
            "tensor([[3., 4., 5., 6., 7., 8., 9.]])\n",
            "torch.Size([1, 7])\n",
            "tensor([[7.5000, 7.0000, 6.5000, 6.0000, 5.5000, 5.0000, 4.5000]])\n",
            "torch.Size([1, 7])\n"
          ]
        }
      ]
    },
    {
      "cell_type": "code",
      "source": [
        "import torch\n",
        "import torch.nn as nn\n",
        "\n",
        "# define linear layer with 2 in features and 1 out features\n",
        "linear_layer = nn.Linear(in_features=2, out_features=1)\n",
        "\n",
        "input_tensor = torch.tensor([[1.0, 2.0]])\n",
        "\n",
        "# passing input through linear layer\n",
        "output_tensor = linear_layer(input_tensor)\n",
        "\n",
        "print(\"Output tensor:\", output_tensor)"
      ],
      "metadata": {
        "colab": {
          "base_uri": "https://localhost:8080/"
        },
        "id": "Bd5jZIuZcXki",
        "outputId": "ea7b021e-1856-406d-e201-4aa8c916a5a6"
      },
      "execution_count": 129,
      "outputs": [
        {
          "output_type": "stream",
          "name": "stdout",
          "text": [
            "Output tensor: tensor([[1.2438]], grad_fn=<AddmmBackward0>)\n"
          ]
        }
      ]
    },
    {
      "cell_type": "code",
      "source": [
        "# define liner layer with 2 in_features and 1 out_features\n",
        "linear_layer = nn.Linear(in_features=2, out_features=1)\n",
        "\n",
        "# access weights and bias\n",
        "weights = linear_layer.weight\n",
        "bias = linear_layer.bias\n",
        "\n",
        "print(\"Trọng số:\", weights)\n",
        "print(\"Bias:\", bias)"
      ],
      "metadata": {
        "colab": {
          "base_uri": "https://localhost:8080/"
        },
        "id": "hnjPfLPUi6xu",
        "outputId": "2cc2429e-79ec-4ff1-c000-528ae940558c"
      },
      "execution_count": 137,
      "outputs": [
        {
          "output_type": "stream",
          "name": "stdout",
          "text": [
            "Trọng số: Parameter containing:\n",
            "tensor([[-0.5750, -0.1776]], requires_grad=True)\n",
            "Bias: Parameter containing:\n",
            "tensor([0.6705], requires_grad=True)\n"
          ]
        }
      ]
    },
    {
      "cell_type": "code",
      "source": [
        "import torch\n",
        "import torch.nn as nn\n",
        "import matplotlib.pyplot as plt\n",
        "\n",
        "class LinearRegression(nn.Module):\n",
        "    def __init__(self, input_dim, output_dim):\n",
        "        super(LinearRegression, self).__init__()\n",
        "        self.linear = nn.Linear(input_dim, output_dim)\n",
        "\n",
        "    def forward(self, x):\n",
        "        return self.linear(x)\n",
        "\n",
        "# Generate data\n",
        "car_prices = torch.tensor([3, 4, 5, 6, 7, 8, 9], dtype=torch.float32)  # Reshape to (num_samples, input_dim)\n",
        "num_car_sell = torch.tensor([7.5, 7, 6.5, 6.0, 5.5, 5.0, 4.5], dtype=torch.float32)\n",
        "\n",
        "\n",
        "car_prices = car_prices.view(-1,1)\n",
        "num_car_sell = num_car_sell.view(-1,1)\n",
        "\"\"\"\n",
        "should use view instead unsqueeze\n",
        "view: reshape\n",
        "unsqueeze: add new demension into tensor\n",
        "\"\"\"\n",
        "\n",
        "#car_priecs = car_prices.unsqueeze(1)\n",
        "#num_car_sell = num_car_sell.unsqueeze(1)\n",
        "\n",
        "\n",
        "input_dim = 1\n",
        "output_dim = 1\n",
        "model = LinearRegression(input_dim, output_dim)\n",
        "mse = nn.MSELoss()\n",
        "\n",
        "lr = 0.01\n",
        "optimizer = torch.optim.SGD(model.parameters(), lr=lr)\n",
        "\n",
        "loss_list = []\n",
        "iteration_number = 1001\n",
        "\n",
        "for i in range(iteration_number):\n",
        "    # zero_grad is mechanism help to prevent gradient addition lead to vanishing/exploding gradient :D\n",
        "    optimizer.zero_grad()\n",
        "\n",
        "    # forwarđ to get output\n",
        "    results = model(car_prices)\n",
        "\n",
        "    # calculate loss\n",
        "    loss = mse(results, num_car_sell)\n",
        "\n",
        "    # backward propagation\n",
        "    loss.backward()\n",
        "\n",
        "    # update parameters\n",
        "    optimizer.step()\n",
        "    loss_list.append(loss.item())\n",
        "\n",
        "plt.plot(range(iteration_number), loss_list)\n",
        "plt.xlabel(\"Number of Iterations\")\n",
        "plt.ylabel(\"Loss\")\n",
        "plt.title(\"Training Loss\")\n",
        "plt.show()\n"
      ],
      "metadata": {
        "colab": {
          "base_uri": "https://localhost:8080/",
          "height": 472
        },
        "id": "K7p7GDKgVll5",
        "outputId": "42877f52-085a-4530-8153-c2a42f3f83b0"
      },
      "execution_count": 128,
      "outputs": [
        {
          "output_type": "display_data",
          "data": {
            "text/plain": [
              "<Figure size 640x480 with 1 Axes>"
            ],
            "image/png": "[encoded data removed]"
          },
          "metadata": {}
        }
      ]
    }
  ]
}