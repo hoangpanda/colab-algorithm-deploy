{
  "nbformat": 4,
  "nbformat_minor": 0,
  "metadata": {
    "colab": {
      "provenance": [],
      "authorship_tag": "ABX9TyPUoFBjdXGctk5NfB6Iytz4",
      "include_colab_link": true
    },
    "kernelspec": {
      "name": "python3",
      "display_name": "Python 3"
    },
    "language_info": {
      "name": "python"
    }
  },
  "cells": [
    {
      "cell_type": "markdown",
      "metadata": {
        "id": "view-in-github",
        "colab_type": "text"
      },
      "source": [
        "<a href=\"https://colab.research.google.com/github/hoangpanda/colab-algorithm-deploy/blob/main/keras_MLP.ipynb\" target=\"_parent\"><img src=\"https://colab.research.google.com/assets/colab-badge.svg\" alt=\"Open In Colab\"/></a>"
      ]
    },
    {
      "cell_type": "code",
      "execution_count": 19,
      "metadata": {
        "id": "NyAZqIraQpTM"
      },
      "outputs": [],
      "source": [
        "from keras.datasets import mnist\n",
        "(x_train, y_train), (x_test, y_test) = mnist.load_data()"
      ]
    },
    {
      "cell_type": "code",
      "source": [
        "print('x_train shape:\\t', x_train.shape)\n",
        "print('y_train shape:\\t', y_train.shape)\n",
        "print('x_test shape:\\t', x_test.shape)\n",
        "print('y_test shape:\\t', y_test.shape)"
      ],
      "metadata": {
        "colab": {
          "base_uri": "https://localhost:8080/"
        },
        "id": "kPZRKVUiQ-nr",
        "outputId": "7cea8495-7f3c-45ce-d880-b9fbeb130ae8"
      },
      "execution_count": 20,
      "outputs": [
        {
          "output_type": "stream",
          "name": "stdout",
          "text": [
            "x_train shape:\t (60000, 28, 28)\n",
            "y_train shape:\t (60000,)\n",
            "x_test shape:\t (10000, 28, 28)\n",
            "y_test shape:\t (10000,)\n"
          ]
        }
      ]
    },
    {
      "cell_type": "code",
      "source": [
        "import keras\n",
        "num_classes = 10\n",
        "x_train = x_train/255\n",
        "x_test = x_test/255\n",
        "y_train = keras.utils.to_categorical(y_train, num_classes)\n",
        "y_test = keras.utils.to_categorical(y_test, num_classes)"
      ],
      "metadata": {
        "id": "hwrHdFUERLq0"
      },
      "execution_count": 21,
      "outputs": []
    },
    {
      "cell_type": "code",
      "source": [
        "from keras.models import Sequential\n",
        "from keras.layers import Dense, Flatten\n",
        "from keras import optimizers\n",
        "\n",
        "\n",
        "model = Sequential()\n",
        "model.add(Flatten(input_shape=(28,28)))\n",
        "model.add(Dense(128, input_shape=(28,28), activation='relu'))\n",
        "model.add(Dense(256, input_shape=(28,28), activation='relu'))\n",
        "model.add(Dense(512, input_shape=(28,28), activation='relu'))\n",
        "model.add(Dense(1024, input_shape=(28,28), activation='relu'))\n",
        "model.add(Dense(num_classes, activation='softmax'))\n",
        "model.compile(optimizer=optimizers.Adam(), metrics='accuracy', loss=keras.losses.categorical_crossentropy)\n",
        "\n",
        "model.fit(x_train, y_train, epochs=20, batch_size=128)"
      ],
      "metadata": {
        "colab": {
          "base_uri": "https://localhost:8080/"
        },
        "id": "HmZGFIXARrq3",
        "outputId": "2536d633-bb46-4023-ca8e-e609d1e24af6"
      },
      "execution_count": 24,
      "outputs": [
        {
          "output_type": "stream",
          "name": "stdout",
          "text": [
            "Epoch 1/20\n",
            "469/469 [==============================] - 12s 24ms/step - loss: 0.2538 - accuracy: 0.9229\n",
            "Epoch 2/20\n",
            "469/469 [==============================] - 10s 22ms/step - loss: 0.1016 - accuracy: 0.9688\n",
            "Epoch 3/20\n",
            "469/469 [==============================] - 11s 23ms/step - loss: 0.0709 - accuracy: 0.9782\n",
            "Epoch 4/20\n",
            "469/469 [==============================] - 11s 24ms/step - loss: 0.0546 - accuracy: 0.9830\n",
            "Epoch 5/20\n",
            "469/469 [==============================] - 11s 24ms/step - loss: 0.0444 - accuracy: 0.9858\n",
            "Epoch 6/20\n",
            "469/469 [==============================] - 12s 25ms/step - loss: 0.0367 - accuracy: 0.9882\n",
            "Epoch 7/20\n",
            "469/469 [==============================] - 11s 24ms/step - loss: 0.0330 - accuracy: 0.9893\n",
            "Epoch 8/20\n",
            "469/469 [==============================] - 11s 23ms/step - loss: 0.0290 - accuracy: 0.9910\n",
            "Epoch 9/20\n",
            "469/469 [==============================] - 10s 22ms/step - loss: 0.0277 - accuracy: 0.9912\n",
            "Epoch 10/20\n",
            "469/469 [==============================] - 11s 24ms/step - loss: 0.0238 - accuracy: 0.9919\n",
            "Epoch 11/20\n",
            "469/469 [==============================] - 11s 24ms/step - loss: 0.0205 - accuracy: 0.9935\n",
            "Epoch 12/20\n",
            "469/469 [==============================] - 11s 24ms/step - loss: 0.0218 - accuracy: 0.9931\n",
            "Epoch 13/20\n",
            "469/469 [==============================] - 11s 24ms/step - loss: 0.0191 - accuracy: 0.9940\n",
            "Epoch 14/20\n",
            "469/469 [==============================] - 11s 24ms/step - loss: 0.0149 - accuracy: 0.9955\n",
            "Epoch 15/20\n",
            "469/469 [==============================] - 12s 26ms/step - loss: 0.0165 - accuracy: 0.9947\n",
            "Epoch 16/20\n",
            "469/469 [==============================] - 10s 22ms/step - loss: 0.0154 - accuracy: 0.9954\n",
            "Epoch 17/20\n",
            "469/469 [==============================] - 11s 24ms/step - loss: 0.0163 - accuracy: 0.9952\n",
            "Epoch 18/20\n",
            "469/469 [==============================] - 11s 24ms/step - loss: 0.0161 - accuracy: 0.9951\n",
            "Epoch 19/20\n",
            "469/469 [==============================] - 11s 24ms/step - loss: 0.0119 - accuracy: 0.9964\n",
            "Epoch 20/20\n",
            "469/469 [==============================] - 11s 24ms/step - loss: 0.0125 - accuracy: 0.9961\n"
          ]
        },
        {
          "output_type": "execute_result",
          "data": {
            "text/plain": [
              "<keras.callbacks.History at 0x7e52ccd1e680>"
            ]
          },
          "metadata": {},
          "execution_count": 24
        }
      ]
    },
    {
      "cell_type": "code",
      "source": [
        "model.evaluate(x_test, y_test, batch_size=128) # overfitting"
      ],
      "metadata": {
        "colab": {
          "base_uri": "https://localhost:8080/"
        },
        "id": "Wmgs8_mdT6rv",
        "outputId": "ec214db6-b78e-4e25-f494-d189f92ebd8f"
      },
      "execution_count": 23,
      "outputs": [
        {
          "output_type": "stream",
          "name": "stdout",
          "text": [
            "79/79 [==============================] - 0s 4ms/step - loss: 0.1044 - accuracy: 0.9774\n"
          ]
        },
        {
          "output_type": "execute_result",
          "data": {
            "text/plain": [
              "[0.1044439971446991, 0.977400004863739]"
            ]
          },
          "metadata": {},
          "execution_count": 23
        }
      ]
    },
    {
      "cell_type": "code",
      "source": [
        "x_train = x_train.reshape(x_train.shape[0], 28, 28, 1)\n",
        "x_test = x_test.reshape(x_test.shape[0], 28, 28, 1)"
      ],
      "metadata": {
        "id": "QrgVyiu5Xe-8"
      },
      "execution_count": 28,
      "outputs": []
    },
    {
      "cell_type": "code",
      "source": [
        "print('x_train shape:\\t', x_train.shape)"
      ],
      "metadata": {
        "colab": {
          "base_uri": "https://localhost:8080/"
        },
        "id": "QNZqPSkNX5zA",
        "outputId": "6c6d53c8-9be0-482e-8a88-f75140129824"
      },
      "execution_count": 30,
      "outputs": [
        {
          "output_type": "stream",
          "name": "stdout",
          "text": [
            "x_train shape:\t (60000, 28, 28, 1)\n"
          ]
        }
      ]
    },
    {
      "cell_type": "code",
      "source": [
        "from keras.models import Sequential\n",
        "from keras.layers import Conv2D, MaxPooling2D, Flatten, Dense\n",
        "from keras.optimizers import Adam\n",
        "\n",
        "model = Sequential()\n",
        "model.add(Conv2D(32, (3, 3), input_shape=(28, 28, 1), activation='relu'))  # Sửa activation thành 'relu'\n",
        "model.add(MaxPooling2D(pool_size=(2, 2)))\n",
        "model.add(Flatten())\n",
        "model.add(Dense(128, activation='relu'))  # Sửa activation thành 'relu'\n",
        "model.add(Dense(10, activation='softmax'))\n",
        "model.compile(loss='categorical_crossentropy', optimizer=Adam(), metrics=['accuracy'])  # Sửa metrics thành list\n",
        "\n",
        "model.fit(x_train, y_train, epochs=20, batch_size=128)\n"
      ],
      "metadata": {
        "colab": {
          "base_uri": "https://localhost:8080/"
        },
        "id": "Mlkqc7gIWC2_",
        "outputId": "ef502a63-bafa-4d8b-e6aa-b6b1da734796"
      },
      "execution_count": 39,
      "outputs": [
        {
          "output_type": "stream",
          "name": "stdout",
          "text": [
            "Epoch 1/20\n",
            "469/469 [==============================] - 32s 66ms/step - loss: 0.2305 - accuracy: 0.9338\n",
            "Epoch 2/20\n",
            "469/469 [==============================] - 30s 65ms/step - loss: 0.0716 - accuracy: 0.9797\n",
            "Epoch 3/20\n",
            "469/469 [==============================] - 30s 64ms/step - loss: 0.0473 - accuracy: 0.9858\n",
            "Epoch 4/20\n",
            "469/469 [==============================] - 31s 66ms/step - loss: 0.0346 - accuracy: 0.9897\n",
            "Epoch 5/20\n",
            "469/469 [==============================] - 30s 65ms/step - loss: 0.0265 - accuracy: 0.9920\n",
            "Epoch 6/20\n",
            "469/469 [==============================] - 31s 67ms/step - loss: 0.0203 - accuracy: 0.9938\n",
            "Epoch 7/20\n",
            "469/469 [==============================] - 31s 67ms/step - loss: 0.0142 - accuracy: 0.9958\n",
            "Epoch 8/20\n",
            "469/469 [==============================] - 30s 64ms/step - loss: 0.0110 - accuracy: 0.9968\n",
            "Epoch 9/20\n",
            "469/469 [==============================] - 30s 64ms/step - loss: 0.0086 - accuracy: 0.9976\n",
            "Epoch 10/20\n",
            "469/469 [==============================] - 32s 68ms/step - loss: 0.0063 - accuracy: 0.9983\n",
            "Epoch 11/20\n",
            "469/469 [==============================] - 31s 67ms/step - loss: 0.0065 - accuracy: 0.9980\n",
            "Epoch 12/20\n",
            "469/469 [==============================] - 32s 68ms/step - loss: 0.0047 - accuracy: 0.9985\n",
            "Epoch 13/20\n",
            "469/469 [==============================] - 32s 67ms/step - loss: 0.0041 - accuracy: 0.9989\n",
            "Epoch 14/20\n",
            "469/469 [==============================] - 30s 64ms/step - loss: 0.0051 - accuracy: 0.9983\n",
            "Epoch 15/20\n",
            "469/469 [==============================] - 31s 66ms/step - loss: 0.0051 - accuracy: 0.9984\n",
            "Epoch 16/20\n",
            "469/469 [==============================] - 30s 63ms/step - loss: 0.0025 - accuracy: 0.9994\n",
            "Epoch 17/20\n",
            "469/469 [==============================] - 30s 64ms/step - loss: 0.0013 - accuracy: 0.9997\n",
            "Epoch 18/20\n",
            "469/469 [==============================] - 31s 67ms/step - loss: 0.0023 - accuracy: 0.9993\n",
            "Epoch 19/20\n",
            "469/469 [==============================] - 32s 68ms/step - loss: 0.0058 - accuracy: 0.9981\n",
            "Epoch 20/20\n",
            "469/469 [==============================] - 30s 64ms/step - loss: 0.0018 - accuracy: 0.9995\n"
          ]
        },
        {
          "output_type": "execute_result",
          "data": {
            "text/plain": [
              "<keras.callbacks.History at 0x7e52cbdbbbb0>"
            ]
          },
          "metadata": {},
          "execution_count": 39
        }
      ]
    },
    {
      "cell_type": "code",
      "source": [
        "model.evaluate(x_test, y_test)"
      ],
      "metadata": {
        "colab": {
          "base_uri": "https://localhost:8080/"
        },
        "id": "a4fJaYd3bYla",
        "outputId": "9756bfdd-decc-490e-d8ad-aa75817739ed"
      },
      "execution_count": 43,
      "outputs": [
        {
          "output_type": "stream",
          "name": "stdout",
          "text": [
            "313/313 [==============================] - 3s 10ms/step - loss: 0.0480 - accuracy: 0.9895\n"
          ]
        },
        {
          "output_type": "execute_result",
          "data": {
            "text/plain": [
              "[0.04798881337046623, 0.9894999861717224]"
            ]
          },
          "metadata": {},
          "execution_count": 43
        }
      ]
    },
    {
      "cell_type": "code",
      "source": [
        "import numpy as np\n",
        "img = x_test[7]\n",
        "y = model.predict(img.reshape(1,28,28,1))\n",
        "print(np.argmax(y))\n",
        "import matplotlib.pyplot as plt\n",
        "plt.imshow(img.reshape(28,28))"
      ],
      "metadata": {
        "colab": {
          "base_uri": "https://localhost:8080/",
          "height": 482
        },
        "id": "YWPitzikbpNy",
        "outputId": "8043886b-fbc4-472c-b0d9-e76e79790f12"
      },
      "execution_count": 53,
      "outputs": [
        {
          "output_type": "stream",
          "name": "stdout",
          "text": [
            "1/1 [==============================] - 0s 37ms/step\n",
            "9\n"
          ]
        },
        {
          "output_type": "execute_result",
          "data": {
            "text/plain": [
              "<matplotlib.image.AxesImage at 0x7e52cc04ebf0>"
            ]
          },
          "metadata": {},
          "execution_count": 53
        },
        {
          "output_type": "display_data",
          "data": {
            "text/plain": [
              "<Figure size 640x480 with 1 Axes>"
            ],
            "image/png": "[encoded data removed]"
          },
          "metadata": {}
        }
      ]
    }
  ]
}