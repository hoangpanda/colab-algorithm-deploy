{
  "nbformat": 4,
  "nbformat_minor": 0,
  "metadata": {
    "colab": {
      "provenance": [],
      "authorship_tag": "ABX9TyMdNUORmNez97q8DftOyUbe",
      "include_colab_link": true
    },
    "kernelspec": {
      "name": "python3",
      "display_name": "Python 3"
    },
    "language_info": {
      "name": "python"
    }
  },
  "cells": [
    {
      "cell_type": "markdown",
      "metadata": {
        "id": "view-in-github",
        "colab_type": "text"
      },
      "source": [
        "<a href=\"https://colab.research.google.com/github/hoangpanda/colab-algorithm-deploy/blob/main/Linear_Regression.ipynb\" target=\"_parent\"><img src=\"https://colab.research.google.com/assets/colab-badge.svg\" alt=\"Open In Colab\"/></a>"
      ]
    },
    {
      "cell_type": "code",
      "execution_count": 108,
      "metadata": {
        "id": "ZPSJvG5TIp1-"
      },
      "outputs": [],
      "source": [
        "import pandas as pd\n",
        "import matplotlib.pyplot as plt\n",
        "import numpy"
      ]
    },
    {
      "cell_type": "code",
      "source": [
        "df = pd.read_csv('linear_regression.csv')\n",
        "df.columns"
      ],
      "metadata": {
        "colab": {
          "base_uri": "https://localhost:8080/"
        },
        "id": "kRnLibG3JiUC",
        "outputId": "3b7691be-2cbc-4c5d-ec9c-640d089fd7c2"
      },
      "execution_count": 109,
      "outputs": [
        {
          "output_type": "execute_result",
          "data": {
            "text/plain": [
              "Index(['X', 'Y'], dtype='object')"
            ]
          },
          "metadata": {},
          "execution_count": 109
        }
      ]
    },
    {
      "cell_type": "code",
      "source": [
        "plt.plot(df['X'], df['Y'])"
      ],
      "metadata": {
        "colab": {
          "base_uri": "https://localhost:8080/",
          "height": 447
        },
        "id": "wWZEp_koJ6z0",
        "outputId": "ce889c67-c3b5-423e-c76d-748c87ee11d1"
      },
      "execution_count": 110,
      "outputs": [
        {
          "output_type": "execute_result",
          "data": {
            "text/plain": [
              "[<matplotlib.lines.Line2D at 0x7c7d5631d540>]"
            ]
          },
          "metadata": {},
          "execution_count": 110
        },
        {
          "output_type": "display_data",
          "data": {
            "text/plain": [
              "<Figure size 640x480 with 1 Axes>"
            ],
            "image/png": "[encoded data removed]"
          },
          "metadata": {}
        }
      ]
    },
    {
      "cell_type": "code",
      "source": [
        "df"
      ],
      "metadata": {
        "colab": {
          "base_uri": "https://localhost:8080/",
          "height": 423
        },
        "id": "8pVkAQC7KEl2",
        "outputId": "75e6b72d-cfeb-4705-a8f2-6a57c02bff24"
      },
      "execution_count": 111,
      "outputs": [
        {
          "output_type": "execute_result",
          "data": {
            "text/plain": [
              "       X           Y\n",
              "0      1    3.888889\n",
              "1      2    4.555556\n",
              "2      3    5.222222\n",
              "3      4    5.888889\n",
              "4      5    6.555556\n",
              "..   ...         ...\n",
              "295  296  200.555556\n",
              "296  297  201.222222\n",
              "297  298  201.888889\n",
              "298  299    1.888889\n",
              "299  300    1.888889\n",
              "\n",
              "[300 rows x 2 columns]"
            ],
            "text/html": [
              "\n",
              "\n",
              "  <div id=\"df-8ac05d68-a038-44e5-940c-62447bdff4ac\">\n",
              "    <div class=\"colab-df-container\">\n",
              "      <div>\n",
              "<style scoped>\n",
              "    .dataframe tbody tr th:only-of-type {\n",
              "        vertical-align: middle;\n",
              "    }\n",
              "\n",
              "    .dataframe tbody tr th {\n",
              "        vertical-align: top;\n",
              "    }\n",
              "\n",
              "    .dataframe thead th {\n",
              "        text-align: right;\n",
              "    }\n",
              "</style>\n",
              "<table border=\"1\" class=\"dataframe\">\n",
              "  <thead>\n",
              "    <tr style=\"text-align: right;\">\n",
              "      <th></th>\n",
              "      <th>X</th>\n",
              "      <th>Y</th>\n",
              "    </tr>\n",
              "  </thead>\n",
              "  <tbody>\n",
              "    <tr>\n",
              "      <th>0</th>\n",
              "      <td>1</td>\n",
              "      <td>3.888889</td>\n",
              "    </tr>\n",
              "    <tr>\n",
              "      <th>1</th>\n",
              "      <td>2</td>\n",
              "      <td>4.555556</td>\n",
              "    </tr>\n",
              "    <tr>\n",
              "      <th>2</th>\n",
              "      <td>3</td>\n",
              "      <td>5.222222</td>\n",
              "    </tr>\n",
              "    <tr>\n",
              "      <th>3</th>\n",
              "      <td>4</td>\n",
              "      <td>5.888889</td>\n",
              "    </tr>\n",
              "    <tr>\n",
              "      <th>4</th>\n",
              "      <td>5</td>\n",
              "      <td>6.555556</td>\n",
              "    </tr>\n",
              "    <tr>\n",
              "      <th>...</th>\n",
              "      <td>...</td>\n",
              "      <td>...</td>\n",
              "    </tr>\n",
              "    <tr>\n",
              "      <th>295</th>\n",
              "      <td>296</td>\n",
              "      <td>200.555556</td>\n",
              "    </tr>\n",
              "    <tr>\n",
              "      <th>296</th>\n",
              "      <td>297</td>\n",
              "      <td>201.222222</td>\n",
              "    </tr>\n",
              "    <tr>\n",
              "      <th>297</th>\n",
              "      <td>298</td>\n",
              "      <td>201.888889</td>\n",
              "    </tr>\n",
              "    <tr>\n",
              "      <th>298</th>\n",
              "      <td>299</td>\n",
              "      <td>1.888889</td>\n",
              "    </tr>\n",
              "    <tr>\n",
              "      <th>299</th>\n",
              "      <td>300</td>\n",
              "      <td>1.888889</td>\n",
              "    </tr>\n",
              "  </tbody>\n",
              "</table>\n",
              "<p>300 rows × 2 columns</p>\n",
              "</div>\n",
              "      <button class=\"colab-df-convert\" onclick=\"convertToInteractive('df-8ac05d68-a038-44e5-940c-62447bdff4ac')\"\n",
              "              title=\"Convert this dataframe to an interactive table.\"\n",
              "              style=\"display:none;\">\n",
              "\n",
              "  <svg xmlns=\"http://www.w3.org/2000/svg\" height=\"24px\"viewBox=\"0 0 24 24\"\n",
              "       width=\"24px\">\n",
              "    <path d=\"M0 0h24v24H0V0z\" fill=\"none\"/>\n",
              "    <path d=\"M18.56 5.44l.94 2.06.94-2.06 2.06-.94-2.06-.94-.94-2.06-.94 2.06-2.06.94zm-11 1L8.5 8.5l.94-2.06 2.06-.94-2.06-.94L8.5 2.5l-.94 2.06-2.06.94zm10 10l.94 2.06.94-2.06 2.06-.94-2.06-.94-.94-2.06-.94 2.06-2.06.94z\"/><path d=\"M17.41 7.96l-1.37-1.37c-.4-.4-.92-.59-1.43-.59-.52 0-1.04.2-1.43.59L10.3 9.45l-7.72 7.72c-.78.78-.78 2.05 0 2.83L4 21.41c.39.39.9.59 1.41.59.51 0 1.02-.2 1.41-.59l7.78-7.78 2.81-2.81c.8-.78.8-2.07 0-2.86zM5.41 20L4 18.59l7.72-7.72 1.47 1.35L5.41 20z\"/>\n",
              "  </svg>\n",
              "      </button>\n",
              "\n",
              "\n",
              "\n",
              "    <div id=\"df-92e90708-bc68-4668-b0d0-192650a15930\">\n",
              "      <button class=\"colab-df-quickchart\" onclick=\"quickchart('df-92e90708-bc68-4668-b0d0-192650a15930')\"\n",
              "              title=\"Suggest charts.\"\n",
              "              style=\"display:none;\">\n",
              "\n",
              "<svg xmlns=\"http://www.w3.org/2000/svg\" height=\"24px\"viewBox=\"0 0 24 24\"\n",
              "     width=\"24px\">\n",
              "    <g>\n",
              "        <path d=\"M19 3H5c-1.1 0-2 .9-2 2v14c0 1.1.9 2 2 2h14c1.1 0 2-.9 2-2V5c0-1.1-.9-2-2-2zM9 17H7v-7h2v7zm4 0h-2V7h2v10zm4 0h-2v-4h2v4z\"/>\n",
              "    </g>\n",
              "</svg>\n",
              "      </button>\n",
              "    </div>\n",
              "\n",
              "<style>\n",
              "  .colab-df-quickchart {\n",
              "    background-color: #E8F0FE;\n",
              "    border: none;\n",
              "    border-radius: 50%;\n",
              "    cursor: pointer;\n",
              "    display: none;\n",
              "    fill: #1967D2;\n",
              "    height: 32px;\n",
              "    padding: 0 0 0 0;\n",
              "    width: 32px;\n",
              "  }\n",
              "\n",
              "  .colab-df-quickchart:hover {\n",
              "    background-color: #E2EBFA;\n",
              "    box-shadow: 0px 1px 2px rgba(60, 64, 67, 0.3), 0px 1px 3px 1px rgba(60, 64, 67, 0.15);\n",
              "    fill: #174EA6;\n",
              "  }\n",
              "\n",
              "  [theme=dark] .colab-df-quickchart {\n",
              "    background-color: #3B4455;\n",
              "    fill: #D2E3FC;\n",
              "  }\n",
              "\n",
              "  [theme=dark] .colab-df-quickchart:hover {\n",
              "    background-color: #434B5C;\n",
              "    box-shadow: 0px 1px 3px 1px rgba(0, 0, 0, 0.15);\n",
              "    filter: drop-shadow(0px 1px 2px rgba(0, 0, 0, 0.3));\n",
              "    fill: #FFFFFF;\n",
              "  }\n",
              "</style>\n",
              "\n",
              "    <script>\n",
              "      async function quickchart(key) {\n",
              "        const containerElement = document.querySelector('#' + key);\n",
              "        const charts = await google.colab.kernel.invokeFunction(\n",
              "            'suggestCharts', [key], {});\n",
              "      }\n",
              "    </script>\n",
              "\n",
              "      <script>\n",
              "\n",
              "function displayQuickchartButton(domScope) {\n",
              "  let quickchartButtonEl =\n",
              "    domScope.querySelector('#df-92e90708-bc68-4668-b0d0-192650a15930 button.colab-df-quickchart');\n",
              "  quickchartButtonEl.style.display =\n",
              "    google.colab.kernel.accessAllowed ? 'block' : 'none';\n",
              "}\n",
              "\n",
              "        displayQuickchartButton(document);\n",
              "      </script>\n",
              "      <style>\n",
              "    .colab-df-container {\n",
              "      display:flex;\n",
              "      flex-wrap:wrap;\n",
              "      gap: 12px;\n",
              "    }\n",
              "\n",
              "    .colab-df-convert {\n",
              "      background-color: #E8F0FE;\n",
              "      border: none;\n",
              "      border-radius: 50%;\n",
              "      cursor: pointer;\n",
              "      display: none;\n",
              "      fill: #1967D2;\n",
              "      height: 32px;\n",
              "      padding: 0 0 0 0;\n",
              "      width: 32px;\n",
              "    }\n",
              "\n",
              "    .colab-df-convert:hover {\n",
              "      background-color: #E2EBFA;\n",
              "      box-shadow: 0px 1px 2px rgba(60, 64, 67, 0.3), 0px 1px 3px 1px rgba(60, 64, 67, 0.15);\n",
              "      fill: #174EA6;\n",
              "    }\n",
              "\n",
              "    [theme=dark] .colab-df-convert {\n",
              "      background-color: #3B4455;\n",
              "      fill: #D2E3FC;\n",
              "    }\n",
              "\n",
              "    [theme=dark] .colab-df-convert:hover {\n",
              "      background-color: #434B5C;\n",
              "      box-shadow: 0px 1px 3px 1px rgba(0, 0, 0, 0.15);\n",
              "      filter: drop-shadow(0px 1px 2px rgba(0, 0, 0, 0.3));\n",
              "      fill: #FFFFFF;\n",
              "    }\n",
              "  </style>\n",
              "\n",
              "      <script>\n",
              "        const buttonEl =\n",
              "          document.querySelector('#df-8ac05d68-a038-44e5-940c-62447bdff4ac button.colab-df-convert');\n",
              "        buttonEl.style.display =\n",
              "          google.colab.kernel.accessAllowed ? 'block' : 'none';\n",
              "\n",
              "        async function convertToInteractive(key) {\n",
              "          const element = document.querySelector('#df-8ac05d68-a038-44e5-940c-62447bdff4ac');\n",
              "          const dataTable =\n",
              "            await google.colab.kernel.invokeFunction('convertToInteractive',\n",
              "                                                     [key], {});\n",
              "          if (!dataTable) return;\n",
              "\n",
              "          const docLinkHtml = 'Like what you see? Visit the ' +\n",
              "            '<a target=\"_blank\" href=https://colab.research.google.com/notebooks/data_table.ipynb>data table notebook</a>'\n",
              "            + ' to learn more about interactive tables.';\n",
              "          element.innerHTML = '';\n",
              "          dataTable['output_type'] = 'display_data';\n",
              "          await google.colab.output.renderOutput(dataTable, element);\n",
              "          const docLink = document.createElement('div');\n",
              "          docLink.innerHTML = docLinkHtml;\n",
              "          element.appendChild(docLink);\n",
              "        }\n",
              "      </script>\n",
              "    </div>\n",
              "  </div>\n"
            ]
          },
          "metadata": {},
          "execution_count": 111
        }
      ]
    },
    {
      "cell_type": "code",
      "source": [
        "df = df.drop(labels=[298, 299], axis=0)"
      ],
      "metadata": {
        "id": "XWWdIOOtKIEn"
      },
      "execution_count": 112,
      "outputs": []
    },
    {
      "cell_type": "code",
      "source": [
        "plt.plot(df['X'], df['Y']);"
      ],
      "metadata": {
        "colab": {
          "base_uri": "https://localhost:8080/",
          "height": 430
        },
        "id": "vvMRnMYxLpPV",
        "outputId": "cac9903c-60ec-4ea0-dd83-895bb2bd90c6"
      },
      "execution_count": 113,
      "outputs": [
        {
          "output_type": "display_data",
          "data": {
            "text/plain": [
              "<Figure size 640x480 with 1 Axes>"
            ],
            "image/png": "[encoded data removed]"
          },
          "metadata": {}
        }
      ]
    },
    {
      "cell_type": "markdown",
      "source": [
        "Test với bộ dữ liệu chưa được chuẩn hóa"
      ],
      "metadata": {
        "id": "ckCTOsEhMBxM"
      }
    },
    {
      "cell_type": "code",
      "source": [
        "from sklearn.model_selection import train_test_split\n",
        "x_train, x_test, y_train, y_test = train_test_split(df[['X']], df[['Y']], test_size=0.33)"
      ],
      "metadata": {
        "id": "K6UPjGC9LxYb"
      },
      "execution_count": 114,
      "outputs": []
    },
    {
      "cell_type": "code",
      "source": [
        "x_train.shape, x_test.shape, y_train.shape, y_test.shape"
      ],
      "metadata": {
        "colab": {
          "base_uri": "https://localhost:8080/"
        },
        "id": "R0zMxNi3MTjA",
        "outputId": "521b4343-ca6f-416b-8604-4670245d0b77"
      },
      "execution_count": 115,
      "outputs": [
        {
          "output_type": "execute_result",
          "data": {
            "text/plain": [
              "((199, 1), (99, 1), (199, 1), (99, 1))"
            ]
          },
          "metadata": {},
          "execution_count": 115
        }
      ]
    },
    {
      "cell_type": "code",
      "source": [
        "from sklearn.linear_model import LinearRegression\n",
        "mdl = LinearRegression().fit(x_train, y_train)"
      ],
      "metadata": {
        "id": "9RE9ykM4MZ_z"
      },
      "execution_count": 116,
      "outputs": []
    },
    {
      "cell_type": "code",
      "source": [
        "print(mdl.intercept_)\n",
        "print(mdl.coef_)"
      ],
      "metadata": {
        "colab": {
          "base_uri": "https://localhost:8080/"
        },
        "id": "JbKtE-xzMxMd",
        "outputId": "5cd3e2d3-d9fb-4c43-e684-918a95fd1881"
      },
      "execution_count": 117,
      "outputs": [
        {
          "output_type": "stream",
          "name": "stdout",
          "text": [
            "[3.22222222]\n",
            "[[0.66666667]]\n"
          ]
        }
      ]
    },
    {
      "cell_type": "code",
      "source": [
        "y_pred = mdl.predict(x_test)\n",
        "y_pred"
      ],
      "metadata": {
        "colab": {
          "base_uri": "https://localhost:8080/"
        },
        "id": "lNsSxuUfNBcQ",
        "outputId": "c09cedda-f907-431f-8c1c-a8a09bb52dac"
      },
      "execution_count": 118,
      "outputs": [
        {
          "output_type": "execute_result",
          "data": {
            "text/plain": [
              "array([[199.22222224],\n",
              "       [158.55555557],\n",
              "       [ 39.22222222],\n",
              "       [ 78.55555556],\n",
              "       [165.8888889 ],\n",
              "       [ 44.55555556],\n",
              "       [ 17.22222222],\n",
              "       [ 55.88888889],\n",
              "       [ 84.55555556],\n",
              "       [ 88.55555556],\n",
              "       [121.22222223],\n",
              "       [ 74.55555556],\n",
              "       [173.22222223],\n",
              "       [193.8888889 ],\n",
              "       [ 53.22222222],\n",
              "       [ 34.55555556],\n",
              "       [111.22222223],\n",
              "       [156.55555557],\n",
              "       [117.8888889 ],\n",
              "       [ 38.55555556],\n",
              "       [153.22222223],\n",
              "       [189.8888889 ],\n",
              "       [ 21.88888889],\n",
              "       [  4.55555555],\n",
              "       [171.22222223],\n",
              "       [ 76.55555556],\n",
              "       [185.8888889 ],\n",
              "       [145.8888889 ],\n",
              "       [ 35.22222222],\n",
              "       [127.8888889 ],\n",
              "       [175.8888889 ],\n",
              "       [ 33.22222222],\n",
              "       [201.8888889 ],\n",
              "       [ 28.55555556],\n",
              "       [174.55555557],\n",
              "       [ 79.88888889],\n",
              "       [ 89.22222223],\n",
              "       [ 55.22222222],\n",
              "       [135.8888889 ],\n",
              "       [135.22222223],\n",
              "       [118.55555556],\n",
              "       [ 40.55555556],\n",
              "       [ 91.88888889],\n",
              "       [143.8888889 ],\n",
              "       [178.55555557],\n",
              "       [ 33.88888889],\n",
              "       [ 85.22222223],\n",
              "       [ 47.88888889],\n",
              "       [ 35.88888889],\n",
              "       [ 93.22222223],\n",
              "       [ 21.22222222],\n",
              "       [ 64.55555556],\n",
              "       [ 27.22222222],\n",
              "       [ 82.55555556],\n",
              "       [ 66.55555556],\n",
              "       [140.55555556],\n",
              "       [120.55555556],\n",
              "       [111.8888889 ],\n",
              "       [ 13.88888889],\n",
              "       [130.55555556],\n",
              "       [ 96.55555556],\n",
              "       [ 12.55555555],\n",
              "       [ 52.55555556],\n",
              "       [107.8888889 ],\n",
              "       [183.8888889 ],\n",
              "       [175.22222223],\n",
              "       [150.55555557],\n",
              "       [ 51.88888889],\n",
              "       [ 46.55555556],\n",
              "       [ 62.55555556],\n",
              "       [ 79.22222223],\n",
              "       [186.55555557],\n",
              "       [ 15.88888889],\n",
              "       [136.55555556],\n",
              "       [103.22222223],\n",
              "       [189.22222223],\n",
              "       [ 56.55555556],\n",
              "       [193.22222223],\n",
              "       [ 37.22222222],\n",
              "       [ 29.22222222],\n",
              "       [188.55555557],\n",
              "       [195.8888889 ],\n",
              "       [ 83.22222223],\n",
              "       [ 23.88888889],\n",
              "       [197.8888889 ],\n",
              "       [ 49.88888889],\n",
              "       [144.55555556],\n",
              "       [ 17.88888889],\n",
              "       [ 83.88888889],\n",
              "       [ 39.88888889],\n",
              "       [110.55555556],\n",
              "       [147.22222223],\n",
              "       [ 99.88888889],\n",
              "       [168.55555557],\n",
              "       [ 57.88888889],\n",
              "       [157.22222223],\n",
              "       [157.8888889 ],\n",
              "       [187.8888889 ],\n",
              "       [ 93.88888889]])"
            ]
          },
          "metadata": {},
          "execution_count": 118
        }
      ]
    },
    {
      "cell_type": "code",
      "source": [
        "from sklearn.metrics import mean_squared_error, r2_score\n",
        "mse = mean_squared_error(y_test, y_pred)\n",
        "r2 = r2_score(y_test, y_pred)\n",
        "print(mse)\n",
        "print(r2)"
      ],
      "metadata": {
        "colab": {
          "base_uri": "https://localhost:8080/"
        },
        "id": "6wutBxh3M4y-",
        "outputId": "9483c606-be47-4f67-dcc6-7a1cb124578d"
      },
      "execution_count": 119,
      "outputs": [
        {
          "output_type": "stream",
          "name": "stdout",
          "text": [
            "3.2806422338130956e-16\n",
            "1.0\n"
          ]
        }
      ]
    },
    {
      "cell_type": "code",
      "source": [
        "from sklearn.preprocessing import StandardScaler\n",
        "sc = StandardScaler().fit(x_train)\n",
        "x_train_sc = sc.transform(x_train)\n",
        "x_test_sc = sc.transform(x_test)"
      ],
      "metadata": {
        "id": "AOQrCX6pNY8H"
      },
      "execution_count": 120,
      "outputs": []
    },
    {
      "cell_type": "code",
      "source": [
        "import numpy as np\n",
        "\n",
        "plt.figure(figsize=(20,10))\n",
        "plt.subplot(121)\n",
        "plt.plot(x_train_sc, y_train)\n",
        "plt.xlabel('x train sc')\n",
        "\n",
        "plt.subplot(122)\n",
        "plt.plot(x_test_sc, y_test)\n",
        "plt.xlabel('x test sc')"
      ],
      "metadata": {
        "colab": {
          "base_uri": "https://localhost:8080/",
          "height": 740
        },
        "id": "NG3bacrAPA2w",
        "outputId": "57987534-7f90-4704-a871-afc86bfa3430"
      },
      "execution_count": 121,
      "outputs": [
        {
          "output_type": "execute_result",
          "data": {
            "text/plain": [
              "Text(0.5, 0, 'x test sc')"
            ]
          },
          "metadata": {},
          "execution_count": 121
        },
        {
          "output_type": "display_data",
          "data": {
            "text/plain": [
              "<Figure size 2000x1000 with 2 Axes>"
            ],
            "image/png": "[encoded data removed]"
          },
          "metadata": {}
        }
      ]
    },
    {
      "cell_type": "code",
      "source": [],
      "metadata": {
        "id": "8jN5PvE6PlKs"
      },
      "execution_count": 121,
      "outputs": []
    },
    {
      "cell_type": "code",
      "source": [
        "mdl1 = LinearRegression()\n",
        "mdl1.fit(x_train_sc, y_train)\n",
        "y_pred_sc = mdl1.predict(x_test_sc)\n",
        "print(mean_squared_error(y_pred_sc, y_test))\n",
        "print(r2_score(y_pred_sc, y_test))"
      ],
      "metadata": {
        "colab": {
          "base_uri": "https://localhost:8080/"
        },
        "id": "QZFOlX6qN4Et",
        "outputId": "a5d5aa38-0da8-465d-8c48-a279efeac9fe"
      },
      "execution_count": 122,
      "outputs": [
        {
          "output_type": "stream",
          "name": "stdout",
          "text": [
            "3.2806416346063536e-16\n",
            "1.0\n"
          ]
        }
      ]
    },
    {
      "cell_type": "code",
      "source": [
        "w0 = mdl1.intercept_\n",
        "w1 = mdl1.coef_[0]\n",
        "\n",
        "plt.figure(figsize=(10, 5))\n",
        "plt.subplot(121)\n",
        "plt.plot(x_train_sc, y_train, label='data')\n",
        "xx = np.linspace(-2, 2, 100)\n",
        "yy = xx*w1 + w0\n",
        "plt.plot(xx, yy, label='fitted line')\n",
        "plt.legend()\n",
        "\n",
        "plt.subplot(122)\n",
        "plt.plot(x_test_sc, y_test, label='data')\n",
        "plt.plot(xx, yy, label='fitted line')\n",
        "\n",
        "plt.legend()"
      ],
      "metadata": {
        "colab": {
          "base_uri": "https://localhost:8080/",
          "height": 462
        },
        "id": "VR2YqSrMQS3Y",
        "outputId": "c848f075-266e-4416-e8b8-a6e8f01f8fcc"
      },
      "execution_count": 125,
      "outputs": [
        {
          "output_type": "execute_result",
          "data": {
            "text/plain": [
              "<matplotlib.legend.Legend at 0x7c7d56857460>"
            ]
          },
          "metadata": {},
          "execution_count": 125
        },
        {
          "output_type": "display_data",
          "data": {
            "text/plain": [
              "<Figure size 1000x500 with 2 Axes>"
            ],
            "image/png": "[encoded data removed]"
          },
          "metadata": {}
        }
      ]
    },
    {
      "cell_type": "code",
      "source": [
        "mse = mean_squared_error(mdl1.predict(x_train_sc), y_train)\n",
        "r2 = r2_score(mdl1.predict(x_train_sc), y_train)\n",
        "print(mse)\n",
        "print(r2)"
      ],
      "metadata": {
        "colab": {
          "base_uri": "https://localhost:8080/"
        },
        "id": "rqfnHh0mRQbV",
        "outputId": "4f4fc99c-06c8-4b89-a527-a552aa0eda3c"
      },
      "execution_count": 124,
      "outputs": [
        {
          "output_type": "stream",
          "name": "stdout",
          "text": [
            "4.21560589948863e-16\n",
            "1.0\n"
          ]
        }
      ]
    },
    {
      "cell_type": "code",
      "source": [
        "mse = mean_squared_error(mdl1.predict(x_test_sc), y_test)\n",
        "r2 = r2_score(mdl1.predict(x_test_sc), y_test)\n",
        "print(mse)\n",
        "print(r2)"
      ],
      "metadata": {
        "colab": {
          "base_uri": "https://localhost:8080/"
        },
        "id": "zba7-gRZSuUh",
        "outputId": "978a5973-2ece-4534-8e58-e2033b9fd101"
      },
      "execution_count": 126,
      "outputs": [
        {
          "output_type": "stream",
          "name": "stdout",
          "text": [
            "3.2806416346063536e-16\n",
            "1.0\n"
          ]
        }
      ]
    }
  ]
}