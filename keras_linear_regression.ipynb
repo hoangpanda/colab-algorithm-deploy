{
  "nbformat": 4,
  "nbformat_minor": 0,
  "metadata": {
    "colab": {
      "provenance": [],
      "authorship_tag": "ABX9TyOo1uGgDgLNrHuUm7USPr2w",
      "include_colab_link": true
    },
    "kernelspec": {
      "name": "python3",
      "display_name": "Python 3"
    },
    "language_info": {
      "name": "python"
    }
  },
  "cells": [
    {
      "cell_type": "markdown",
      "metadata": {
        "id": "view-in-github",
        "colab_type": "text"
      },
      "source": [
        "<a href=\"https://colab.research.google.com/github/hoangpanda/colab-algorithm-deploy/blob/main/keras_linear_regression.ipynb\" target=\"_parent\"><img src=\"https://colab.research.google.com/assets/colab-badge.svg\" alt=\"Open In Colab\"/></a>"
      ]
    },
    {
      "cell_type": "code",
      "execution_count": 2,
      "metadata": {
        "id": "5pbmzP9BG00x"
      },
      "outputs": [],
      "source": [
        "import numpy as np"
      ]
    },
    {
      "cell_type": "code",
      "source": [
        "# prepare data\n",
        "x = np.random.randn(100, 2)\n",
        "# y = 2x1 + 3x2 + 2\n",
        "y = 2*x[:,0] + 3*x[:,1] + 2 + 0.2*np.random.rand(100)\n",
        "y"
      ],
      "metadata": {
        "id": "qix7_-VSHQ4i"
      },
      "execution_count": null,
      "outputs": []
    },
    {
      "cell_type": "code",
      "source": [
        "from keras.models import Sequential\n",
        "from keras.layers import Dense, Activation\n",
        "from keras.optimizers import SGD\n",
        "\n",
        "# bulding model\n",
        "model = Sequential()\n",
        "model.add(Dense(1, input_shape=(2,), activation='linear'))\n",
        "model.compile(optimizer=SGD(learning_rate=0.1), loss='mse')\n",
        "\n",
        "# fit\n",
        "model.fit(x, y, epochs=20, batch_size=20)\n"
      ],
      "metadata": {
        "colab": {
          "base_uri": "https://localhost:8080/"
        },
        "id": "yVoOrm-KHsNM",
        "outputId": "fd43adc8-3a08-49fa-ebfc-fa2518c5798c"
      },
      "execution_count": 9,
      "outputs": [
        {
          "output_type": "stream",
          "name": "stdout",
          "text": [
            "Epoch 1/20\n",
            "5/5 [==============================] - 1s 11ms/step - loss: 11.4283\n",
            "Epoch 2/20\n",
            "5/5 [==============================] - 0s 9ms/step - loss: 1.0877\n",
            "Epoch 3/20\n",
            "5/5 [==============================] - 0s 5ms/step - loss: 0.1067\n",
            "Epoch 4/20\n",
            "5/5 [==============================] - 0s 9ms/step - loss: 0.0142\n",
            "Epoch 5/20\n",
            "5/5 [==============================] - 0s 5ms/step - loss: 0.0045\n",
            "Epoch 6/20\n",
            "5/5 [==============================] - 0s 4ms/step - loss: 0.0036\n",
            "Epoch 7/20\n",
            "5/5 [==============================] - 0s 5ms/step - loss: 0.0034\n",
            "Epoch 8/20\n",
            "5/5 [==============================] - 0s 5ms/step - loss: 0.0034\n",
            "Epoch 9/20\n",
            "5/5 [==============================] - 0s 4ms/step - loss: 0.0035\n",
            "Epoch 10/20\n",
            "5/5 [==============================] - 0s 5ms/step - loss: 0.0035\n",
            "Epoch 11/20\n",
            "5/5 [==============================] - 0s 4ms/step - loss: 0.0035\n",
            "Epoch 12/20\n",
            "5/5 [==============================] - 0s 4ms/step - loss: 0.0034\n",
            "Epoch 13/20\n",
            "5/5 [==============================] - 0s 4ms/step - loss: 0.0035\n",
            "Epoch 14/20\n",
            "5/5 [==============================] - 0s 8ms/step - loss: 0.0034\n",
            "Epoch 15/20\n",
            "5/5 [==============================] - 0s 7ms/step - loss: 0.0034\n",
            "Epoch 16/20\n",
            "5/5 [==============================] - 0s 11ms/step - loss: 0.0034\n",
            "Epoch 17/20\n",
            "5/5 [==============================] - 0s 7ms/step - loss: 0.0035\n",
            "Epoch 18/20\n",
            "5/5 [==============================] - 0s 6ms/step - loss: 0.0034\n",
            "Epoch 19/20\n",
            "5/5 [==============================] - 0s 8ms/step - loss: 0.0034\n",
            "Epoch 20/20\n",
            "5/5 [==============================] - 0s 5ms/step - loss: 0.0035\n"
          ]
        },
        {
          "output_type": "execute_result",
          "data": {
            "text/plain": [
              "<keras.callbacks.History at 0x7bed8c527010>"
            ]
          },
          "metadata": {},
          "execution_count": 9
        }
      ]
    },
    {
      "cell_type": "code",
      "source": [
        "w = model.get_weights()\n",
        "print(w)"
      ],
      "metadata": {
        "colab": {
          "base_uri": "https://localhost:8080/"
        },
        "id": "EcYxAWjRJG_5",
        "outputId": "31d0cbed-0018-4dfe-f01c-8e17f5dbbffa"
      },
      "execution_count": 14,
      "outputs": [
        {
          "output_type": "stream",
          "name": "stdout",
          "text": [
            "[array([[2.0029767],\n",
            "       [3.0031028]], dtype=float32), array([2.0977569], dtype=float32)]\n"
          ]
        }
      ]
    }
  ]
}