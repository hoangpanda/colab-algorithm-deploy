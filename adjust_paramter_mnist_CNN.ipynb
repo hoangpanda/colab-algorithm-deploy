{
  "nbformat": 4,
  "nbformat_minor": 0,
  "metadata": {
    "colab": {
      "provenance": [],
      "gpuType": "T4",
      "authorship_tag": "ABX9TyOmUAzzm4OYLBsiLRhvKBAN",
      "include_colab_link": true
    },
    "kernelspec": {
      "name": "python3",
      "display_name": "Python 3"
    },
    "language_info": {
      "name": "python"
    },
    "accelerator": "GPU"
  },
  "cells": [
    {
      "cell_type": "markdown",
      "metadata": {
        "id": "view-in-github",
        "colab_type": "text"
      },
      "source": [
        "<a href=\"https://colab.research.google.com/github/hoangpanda/colab-algorithm-deploy/blob/main/adjust_paramter_mnist_CNN.ipynb\" target=\"_parent\"><img src=\"https://colab.research.google.com/assets/colab-badge.svg\" alt=\"Open In Colab\"/></a>"
      ]
    },
    {
      "cell_type": "code",
      "execution_count": 23,
      "metadata": {
        "id": "vYg_sj4YWgLP"
      },
      "outputs": [],
      "source": [
        "from keras.datasets import mnist"
      ]
    },
    {
      "cell_type": "code",
      "source": [
        "(x_train, y_train), (x_test, y_test) = mnist.load_data()"
      ],
      "metadata": {
        "id": "YsPuqmhKXD-s"
      },
      "execution_count": 61,
      "outputs": []
    },
    {
      "cell_type": "code",
      "source": [
        "print(x_train.shape)\n",
        "print(y_train.shape)"
      ],
      "metadata": {
        "colab": {
          "base_uri": "https://localhost:8080/"
        },
        "id": "_ARbonS5XWyz",
        "outputId": "cb57fd93-596b-4bc4-e177-a00a4a0b468c"
      },
      "execution_count": 25,
      "outputs": [
        {
          "output_type": "stream",
          "name": "stdout",
          "text": [
            "(60000, 28, 28)\n",
            "(60000,)\n"
          ]
        }
      ]
    },
    {
      "cell_type": "code",
      "source": [
        "import matplotlib.pyplot as plt\n",
        "plt.imshow(x_test[0])"
      ],
      "metadata": {
        "colab": {
          "base_uri": "https://localhost:8080/",
          "height": 447
        },
        "id": "mFpqPI3WXpEv",
        "outputId": "8927ba77-dc08-49f1-9d2c-9f9d1cd61cc3"
      },
      "execution_count": 62,
      "outputs": [
        {
          "output_type": "execute_result",
          "data": {
            "text/plain": [
              "<matplotlib.image.AxesImage at 0x78f7dc4597b0>"
            ]
          },
          "metadata": {},
          "execution_count": 62
        },
        {
          "output_type": "display_data",
          "data": {
            "text/plain": [
              "<Figure size 640x480 with 1 Axes>"
            ],
            "image/png": "[encoded data removed]"
          },
          "metadata": {}
        }
      ]
    },
    {
      "cell_type": "code",
      "source": [
        "x_train = x_train.reshape(x_train.shape[0], 784)\n",
        "print(x_train.shape)"
      ],
      "metadata": {
        "colab": {
          "base_uri": "https://localhost:8080/"
        },
        "id": "Duo9mQuSXbsu",
        "outputId": "bbbebb28-c502-4cf2-a5aa-1f917aac5245"
      },
      "execution_count": 63,
      "outputs": [
        {
          "output_type": "stream",
          "name": "stdout",
          "text": [
            "(60000, 784)\n"
          ]
        }
      ]
    },
    {
      "cell_type": "code",
      "source": [
        "from keras.models import Sequential\n",
        "from keras.layers import Dense, Activation\n",
        "from keras.optimizers import Adam\n",
        "import numpy as np\n"
      ],
      "metadata": {
        "id": "OIgWBFKOXort"
      },
      "execution_count": 64,
      "outputs": []
    },
    {
      "cell_type": "code",
      "source": [
        "from keras.utils import to_categorical\n",
        "y_train = to_categorical(y_train, num_classes=10)\n",
        "y_test = to_categorical(y_test, num_classes=10)\n",
        "print(y_train.shape)\n",
        "#print(y_train)"
      ],
      "metadata": {
        "colab": {
          "base_uri": "https://localhost:8080/"
        },
        "id": "UNr2kqadZHRR",
        "outputId": "12c73820-51a9-4b52-9408-6ed25900b248"
      },
      "execution_count": 65,
      "outputs": [
        {
          "output_type": "stream",
          "name": "stdout",
          "text": [
            "(60000, 10)\n"
          ]
        }
      ]
    },
    {
      "cell_type": "code",
      "source": [
        "model = Sequential()\n",
        "model.add(Dense(1024, input_shape=(784,), activation='relu'))\n",
        "model.add(Dense(512, activation='relu'))\n",
        "model.add(Dense(256, activation='relu'))\n",
        "model.add(Dense(128, activation='relu'))\n",
        "model.add(Dense(10, activation='softmax'))\n",
        "model.compile(optimizer='adam', loss='categorical_crossentropy', metrics=['accuracy'])"
      ],
      "metadata": {
        "id": "XyFbn1PRYMc2"
      },
      "execution_count": 66,
      "outputs": []
    },
    {
      "cell_type": "code",
      "source": [
        "model.fit(x_train, y_train, epochs=20, batch_size=128)"
      ],
      "metadata": {
        "colab": {
          "base_uri": "https://localhost:8080/"
        },
        "id": "H4pGw8KTY6sz",
        "outputId": "ea5a0976-4a1d-4764-9263-0b67e2b4fbb4"
      },
      "execution_count": 67,
      "outputs": [
        {
          "output_type": "stream",
          "name": "stdout",
          "text": [
            "Epoch 1/20\n",
            "469/469 [==============================] - 3s 4ms/step - loss: 1.3418 - accuracy: 0.9036\n",
            "Epoch 2/20\n",
            "469/469 [==============================] - 2s 4ms/step - loss: 0.1223 - accuracy: 0.9655\n",
            "Epoch 3/20\n",
            "469/469 [==============================] - 2s 4ms/step - loss: 0.0928 - accuracy: 0.9725\n",
            "Epoch 4/20\n",
            "469/469 [==============================] - 2s 5ms/step - loss: 0.0685 - accuracy: 0.9789\n",
            "Epoch 5/20\n",
            "469/469 [==============================] - 2s 4ms/step - loss: 0.0804 - accuracy: 0.9769\n",
            "Epoch 6/20\n",
            "469/469 [==============================] - 2s 4ms/step - loss: 0.0724 - accuracy: 0.9791\n",
            "Epoch 7/20\n",
            "469/469 [==============================] - 2s 4ms/step - loss: 0.0583 - accuracy: 0.9824\n",
            "Epoch 8/20\n",
            "469/469 [==============================] - 2s 4ms/step - loss: 0.0629 - accuracy: 0.9819\n",
            "Epoch 9/20\n",
            "469/469 [==============================] - 2s 4ms/step - loss: 0.0523 - accuracy: 0.9856\n",
            "Epoch 10/20\n",
            "469/469 [==============================] - 2s 4ms/step - loss: 0.0611 - accuracy: 0.9829\n",
            "Epoch 11/20\n",
            "469/469 [==============================] - 2s 5ms/step - loss: 0.0633 - accuracy: 0.9826\n",
            "Epoch 12/20\n",
            "469/469 [==============================] - 2s 4ms/step - loss: 0.0455 - accuracy: 0.9861\n",
            "Epoch 13/20\n",
            "469/469 [==============================] - 2s 4ms/step - loss: 0.0390 - accuracy: 0.9889\n",
            "Epoch 14/20\n",
            "469/469 [==============================] - 2s 4ms/step - loss: 0.0458 - accuracy: 0.9873\n",
            "Epoch 15/20\n",
            "469/469 [==============================] - 2s 4ms/step - loss: 0.0432 - accuracy: 0.9875\n",
            "Epoch 16/20\n",
            "469/469 [==============================] - 2s 4ms/step - loss: 0.0352 - accuracy: 0.9896\n",
            "Epoch 17/20\n",
            "469/469 [==============================] - 2s 5ms/step - loss: 0.0308 - accuracy: 0.9910\n",
            "Epoch 18/20\n",
            "469/469 [==============================] - 2s 4ms/step - loss: 0.0352 - accuracy: 0.9902\n",
            "Epoch 19/20\n",
            "469/469 [==============================] - 2s 4ms/step - loss: 0.0347 - accuracy: 0.9905\n",
            "Epoch 20/20\n",
            "469/469 [==============================] - 2s 5ms/step - loss: 0.0289 - accuracy: 0.9921\n"
          ]
        },
        {
          "output_type": "execute_result",
          "data": {
            "text/plain": [
              "<keras.callbacks.History at 0x78f7dc2f3010>"
            ]
          },
          "metadata": {},
          "execution_count": 67
        }
      ]
    },
    {
      "cell_type": "code",
      "source": [
        "model.evaluate(x_train, y_train)"
      ],
      "metadata": {
        "id": "-u4hQCxwfbSg",
        "outputId": "6ec5a71a-a0b5-464e-917d-6f04bd25b2df",
        "colab": {
          "base_uri": "https://localhost:8080/"
        }
      },
      "execution_count": 69,
      "outputs": [
        {
          "output_type": "stream",
          "name": "stdout",
          "text": [
            "1875/1875 [==============================] - 4s 2ms/step - loss: 0.0235 - accuracy: 0.9935\n"
          ]
        },
        {
          "output_type": "execute_result",
          "data": {
            "text/plain": [
              "[0.023542892187833786, 0.9935166835784912]"
            ]
          },
          "metadata": {},
          "execution_count": 69
        }
      ]
    },
    {
      "cell_type": "code",
      "source": [
        "x_test = x_test.reshape(x_test.shape[0], 784)\n",
        "model.evaluate(x_test, y_test)"
      ],
      "metadata": {
        "id": "HV0wXlEKfker",
        "outputId": "26a20c44-2740-42bf-c669-bf04eddf7ac3",
        "colab": {
          "base_uri": "https://localhost:8080/"
        }
      },
      "execution_count": 76,
      "outputs": [
        {
          "output_type": "stream",
          "name": "stdout",
          "text": [
            "313/313 [==============================] - 2s 5ms/step - loss: 0.1225 - accuracy: 0.9759\n"
          ]
        },
        {
          "output_type": "execute_result",
          "data": {
            "text/plain": [
              "[0.12245023250579834, 0.9758999943733215]"
            ]
          },
          "metadata": {},
          "execution_count": 76
        }
      ]
    },
    {
      "cell_type": "code",
      "source": [
        "mdl = Sequential()\n",
        "mdl.add(Dense(128, input_shape=(784,), activation='relu'))\n",
        "mdl.add(Dense(256, activation='relu'))\n",
        "mdl.add(Dense(512, activation='relu'))\n",
        "mdl.add(Dense(1024, activation='relu'))\n",
        "mdl.add(Dense(10, activation='softmax'))\n",
        "mdl.compile(loss='categorical_crossentropy', metrics='accuracy', optimizer='adam')"
      ],
      "metadata": {
        "id": "7QjksMKNbkVn"
      },
      "execution_count": 38,
      "outputs": []
    },
    {
      "cell_type": "code",
      "source": [
        "mdl.fit(x_train, y_train, epochs=20, batch_size=128)"
      ],
      "metadata": {
        "id": "JA3Ge23Ub6Ls",
        "outputId": "679baea5-e00e-4c95-a0f9-1e4c43ebe0a8",
        "colab": {
          "base_uri": "https://localhost:8080/"
        }
      },
      "execution_count": 40,
      "outputs": [
        {
          "output_type": "stream",
          "name": "stdout",
          "text": [
            "Epoch 1/20\n",
            "469/469 [==============================] - 4s 6ms/step - loss: 0.4085 - accuracy: 0.8490\n",
            "Epoch 2/20\n",
            "469/469 [==============================] - 2s 4ms/step - loss: 0.3767 - accuracy: 0.8583\n",
            "Epoch 3/20\n",
            "469/469 [==============================] - 2s 4ms/step - loss: 0.3608 - accuracy: 0.8647\n",
            "Epoch 4/20\n",
            "469/469 [==============================] - 2s 4ms/step - loss: 0.3496 - accuracy: 0.8716\n",
            "Epoch 5/20\n",
            "469/469 [==============================] - 2s 4ms/step - loss: 0.3458 - accuracy: 0.8716\n",
            "Epoch 6/20\n",
            "469/469 [==============================] - 2s 5ms/step - loss: 0.3381 - accuracy: 0.8754\n",
            "Epoch 7/20\n",
            "469/469 [==============================] - 2s 4ms/step - loss: 0.3318 - accuracy: 0.8768\n",
            "Epoch 8/20\n",
            "469/469 [==============================] - 2s 4ms/step - loss: 0.3211 - accuracy: 0.8816\n",
            "Epoch 9/20\n",
            "469/469 [==============================] - 2s 5ms/step - loss: 0.3223 - accuracy: 0.8807\n",
            "Epoch 10/20\n",
            "469/469 [==============================] - 2s 5ms/step - loss: 0.3137 - accuracy: 0.8840\n",
            "Epoch 11/20\n",
            "469/469 [==============================] - 2s 5ms/step - loss: 0.3089 - accuracy: 0.8864\n",
            "Epoch 12/20\n",
            "469/469 [==============================] - 3s 7ms/step - loss: 0.3051 - accuracy: 0.8871\n",
            "Epoch 13/20\n",
            "469/469 [==============================] - 2s 4ms/step - loss: 0.3050 - accuracy: 0.8865\n",
            "Epoch 14/20\n",
            "469/469 [==============================] - 2s 4ms/step - loss: 0.2954 - accuracy: 0.8909\n",
            "Epoch 15/20\n",
            "469/469 [==============================] - 2s 4ms/step - loss: 0.2949 - accuracy: 0.8920\n",
            "Epoch 16/20\n",
            "469/469 [==============================] - 2s 4ms/step - loss: 0.2866 - accuracy: 0.8945\n",
            "Epoch 17/20\n",
            "469/469 [==============================] - 2s 4ms/step - loss: 0.2831 - accuracy: 0.8956\n",
            "Epoch 18/20\n",
            "469/469 [==============================] - 2s 5ms/step - loss: 0.2822 - accuracy: 0.8963\n",
            "Epoch 19/20\n",
            "469/469 [==============================] - 2s 4ms/step - loss: 0.2789 - accuracy: 0.8963\n",
            "Epoch 20/20\n",
            "469/469 [==============================] - 2s 4ms/step - loss: 0.2721 - accuracy: 0.9000\n"
          ]
        },
        {
          "output_type": "execute_result",
          "data": {
            "text/plain": [
              "<keras.callbacks.History at 0x78f8065e51e0>"
            ]
          },
          "metadata": {},
          "execution_count": 40
        }
      ]
    },
    {
      "cell_type": "code",
      "source": [
        "from keras.datasets import mnist\n",
        "(x_tr, y_tr), (x_te, y_te) = mnist.load_data()"
      ],
      "metadata": {
        "id": "oOYyHMnXdPzf",
        "outputId": "296e6579-2cab-4a2b-81f2-76ec892c8e3f",
        "colab": {
          "base_uri": "https://localhost:8080/"
        }
      },
      "execution_count": 56,
      "outputs": [
        {
          "output_type": "stream",
          "name": "stdout",
          "text": [
            "Downloading data from https://storage.googleapis.com/tensorflow/tf-keras-datasets/mnist.npz\n",
            "11490434/11490434 [==============================] - 0s 0us/step\n"
          ]
        }
      ]
    },
    {
      "cell_type": "code",
      "source": [
        "y_tr = to_categorical(y_tr, num_classes=10)\n",
        "y_te = to_categorical(y_te, num_classes=10)"
      ],
      "metadata": {
        "id": "XgH7tnBkdeYL"
      },
      "execution_count": 57,
      "outputs": []
    },
    {
      "cell_type": "code",
      "source": [
        "from keras.layers import Flatten\n",
        "mdl1 = Sequential()\n",
        "mdl1.add(Flatten(input_shape=(28,28)))\n",
        "mdl1.add(Dense(128, activation='relu'))\n",
        "mdl1.add(Dense(256, activation='relu'))\n",
        "mdl1.add(Dense(512, activation='relu'))\n",
        "mdl1.add(Dense(1024, activation='relu'))\n",
        "mdl1.add(Dense(10, activation='softmax'))\n",
        "mdl1.compile(loss='categorical_crossentropy', metrics='accuracy', optimizer=Adam(learning_rate=0.001))"
      ],
      "metadata": {
        "id": "6oLzvAUIdlMx"
      },
      "execution_count": 58,
      "outputs": []
    },
    {
      "cell_type": "code",
      "source": [
        "mdl1.fit(x_tr, y_tr, epochs=20, batch_size=128)"
      ],
      "metadata": {
        "id": "wBce8GGEd3fx",
        "outputId": "d68add4d-ac16-498a-f826-8a7bc3235e25",
        "colab": {
          "base_uri": "https://localhost:8080/"
        }
      },
      "execution_count": 59,
      "outputs": [
        {
          "output_type": "stream",
          "name": "stdout",
          "text": [
            "Epoch 1/20\n",
            "469/469 [==============================] - 2s 3ms/step - loss: 0.9744 - accuracy: 0.8668\n",
            "Epoch 2/20\n",
            "469/469 [==============================] - 2s 3ms/step - loss: 0.1693 - accuracy: 0.9495\n",
            "Epoch 3/20\n",
            "469/469 [==============================] - 2s 3ms/step - loss: 0.1200 - accuracy: 0.9641\n",
            "Epoch 4/20\n",
            "469/469 [==============================] - 2s 4ms/step - loss: 0.1041 - accuracy: 0.9683\n",
            "Epoch 5/20\n",
            "469/469 [==============================] - 2s 3ms/step - loss: 0.0942 - accuracy: 0.9712\n",
            "Epoch 6/20\n",
            "469/469 [==============================] - 2s 4ms/step - loss: 0.0767 - accuracy: 0.9774\n",
            "Epoch 7/20\n",
            "469/469 [==============================] - 2s 4ms/step - loss: 0.0708 - accuracy: 0.9789\n",
            "Epoch 8/20\n",
            "469/469 [==============================] - 2s 3ms/step - loss: 0.0646 - accuracy: 0.9804\n",
            "Epoch 9/20\n",
            "469/469 [==============================] - 2s 3ms/step - loss: 0.0681 - accuracy: 0.9800\n",
            "Epoch 10/20\n",
            "469/469 [==============================] - 2s 3ms/step - loss: 0.0677 - accuracy: 0.9810\n",
            "Epoch 11/20\n",
            "469/469 [==============================] - 2s 3ms/step - loss: 0.0606 - accuracy: 0.9826\n",
            "Epoch 12/20\n",
            "469/469 [==============================] - 2s 3ms/step - loss: 0.0594 - accuracy: 0.9833\n",
            "Epoch 13/20\n",
            "469/469 [==============================] - 2s 3ms/step - loss: 0.0602 - accuracy: 0.9830\n",
            "Epoch 14/20\n",
            "469/469 [==============================] - 2s 4ms/step - loss: 0.0535 - accuracy: 0.9847\n",
            "Epoch 15/20\n",
            "469/469 [==============================] - 2s 5ms/step - loss: 0.0595 - accuracy: 0.9836\n",
            "Epoch 16/20\n",
            "469/469 [==============================] - 2s 3ms/step - loss: 0.0464 - accuracy: 0.9866\n",
            "Epoch 17/20\n",
            "469/469 [==============================] - 2s 3ms/step - loss: 0.0572 - accuracy: 0.9854\n",
            "Epoch 18/20\n",
            "469/469 [==============================] - 2s 3ms/step - loss: 0.0497 - accuracy: 0.9864\n",
            "Epoch 19/20\n",
            "469/469 [==============================] - 2s 3ms/step - loss: 0.0490 - accuracy: 0.9865\n",
            "Epoch 20/20\n",
            "469/469 [==============================] - 2s 3ms/step - loss: 0.0444 - accuracy: 0.9878\n"
          ]
        },
        {
          "output_type": "execute_result",
          "data": {
            "text/plain": [
              "<keras.callbacks.History at 0x78f7dc357df0>"
            ]
          },
          "metadata": {},
          "execution_count": 59
        }
      ]
    },
    {
      "cell_type": "code",
      "source": [
        "mdl1.evaluate(x_te, y_te)"
      ],
      "metadata": {
        "id": "-FJpL4-pgHAu",
        "outputId": "b830def1-563e-4adc-cd55-01e325907ad7",
        "colab": {
          "base_uri": "https://localhost:8080/"
        }
      },
      "execution_count": 78,
      "outputs": [
        {
          "output_type": "stream",
          "name": "stdout",
          "text": [
            "313/313 [==============================] - 1s 4ms/step - loss: 0.1447 - accuracy: 0.9727\n"
          ]
        },
        {
          "output_type": "execute_result",
          "data": {
            "text/plain": [
              "[0.144708514213562, 0.9726999998092651]"
            ]
          },
          "metadata": {},
          "execution_count": 78
        }
      ]
    },
    {
      "cell_type": "code",
      "source": [
        "from keras.layers import Conv2D, MaxPooling2D, Dropout\n",
        "from keras.datasets import fashion_mnist\n",
        "(x_train, y_train), (x_test, y_test) = fashion_mnist.load_data()\n",
        "x_train = x_train.astype('float32')\n",
        "x_test = x_test.astype('float32')\n",
        "x_train = x_train/255\n",
        "x_test = x_test/255\n",
        "y_train = to_categorical(y_train, num_classes=10)\n",
        "y_test = to_categorical(y_test, num_classes=10)"
      ],
      "metadata": {
        "id": "DAJc2RWYgXQI"
      },
      "execution_count": 128,
      "outputs": []
    },
    {
      "cell_type": "code",
      "source": [
        "from keras.callbacks import EarlyStopping\n",
        "my_callback=[EarlyStopping(monitor='val_acc',patience=5,mode=max)]\n",
        "model = Sequential()\n",
        "model.add(Conv2D(input_shape=(28,28,1), activation='relu', filters=32, kernel_size=(3,3)))\n",
        "model.add(MaxPooling2D(input_shape=(2,2)))\n",
        "model.add(Conv2D(32, (3,3), activation='relu'))\n",
        "model.add(MaxPooling2D(input_shape=(2,2)))\n",
        "model.add(Flatten())\n",
        "#model.add(Dense(256, activation='relu'))\n",
        "model.add(Dense(128, activation='relu'))\n",
        "model.add(Dropout(0.4))\n",
        "model.add(Dense(10, activation='softmax'))\n",
        "model.compile(loss='categorical_crossentropy', metrics='accuracy', optimizer=Adam())"
      ],
      "metadata": {
        "id": "y5KXZ_Bsgyis",
        "outputId": "2a7ce076-378c-435f-cdb4-bc6a267343f5",
        "colab": {
          "base_uri": "https://localhost:8080/"
        }
      },
      "execution_count": 132,
      "outputs": [
        {
          "output_type": "stream",
          "name": "stderr",
          "text": [
            "WARNING:tensorflow:EarlyStopping mode <built-in function max> is unknown, fallback to auto mode.\n"
          ]
        }
      ]
    },
    {
      "cell_type": "code",
      "source": [
        "hist = model.fit(x_train, y_train, epochs=20, batch_size=128, validation_data=(x_test, y_test))"
      ],
      "metadata": {
        "id": "Js9EClhtiltX",
        "outputId": "8acdd0e7-52ac-4ee9-b640-8a659e178881",
        "colab": {
          "base_uri": "https://localhost:8080/"
        }
      },
      "execution_count": 133,
      "outputs": [
        {
          "output_type": "stream",
          "name": "stdout",
          "text": [
            "Epoch 1/20\n",
            "469/469 [==============================] - 4s 7ms/step - loss: 0.6622 - accuracy: 0.7594 - val_loss: 0.4347 - val_accuracy: 0.8396\n",
            "Epoch 2/20\n",
            "469/469 [==============================] - 3s 5ms/step - loss: 0.4208 - accuracy: 0.8477 - val_loss: 0.3666 - val_accuracy: 0.8671\n",
            "Epoch 3/20\n",
            "469/469 [==============================] - 2s 5ms/step - loss: 0.3662 - accuracy: 0.8676 - val_loss: 0.3336 - val_accuracy: 0.8792\n",
            "Epoch 4/20\n",
            "469/469 [==============================] - 2s 5ms/step - loss: 0.3390 - accuracy: 0.8777 - val_loss: 0.3144 - val_accuracy: 0.8864\n",
            "Epoch 5/20\n",
            "469/469 [==============================] - 2s 4ms/step - loss: 0.3182 - accuracy: 0.8846 - val_loss: 0.3136 - val_accuracy: 0.8872\n",
            "Epoch 6/20\n",
            "469/469 [==============================] - 2s 5ms/step - loss: 0.3014 - accuracy: 0.8898 - val_loss: 0.2974 - val_accuracy: 0.8938\n",
            "Epoch 7/20\n",
            "469/469 [==============================] - 2s 5ms/step - loss: 0.2888 - accuracy: 0.8930 - val_loss: 0.2841 - val_accuracy: 0.9014\n",
            "Epoch 8/20\n",
            "469/469 [==============================] - 3s 5ms/step - loss: 0.2753 - accuracy: 0.9000 - val_loss: 0.2789 - val_accuracy: 0.9007\n",
            "Epoch 9/20\n",
            "469/469 [==============================] - 2s 4ms/step - loss: 0.2648 - accuracy: 0.9037 - val_loss: 0.2642 - val_accuracy: 0.9046\n",
            "Epoch 10/20\n",
            "469/469 [==============================] - 2s 4ms/step - loss: 0.2549 - accuracy: 0.9048 - val_loss: 0.2610 - val_accuracy: 0.9039\n",
            "Epoch 11/20\n",
            "469/469 [==============================] - 2s 4ms/step - loss: 0.2463 - accuracy: 0.9095 - val_loss: 0.2638 - val_accuracy: 0.9070\n",
            "Epoch 12/20\n",
            "469/469 [==============================] - 2s 5ms/step - loss: 0.2343 - accuracy: 0.9127 - val_loss: 0.2614 - val_accuracy: 0.9025\n",
            "Epoch 13/20\n",
            "469/469 [==============================] - 3s 6ms/step - loss: 0.2287 - accuracy: 0.9153 - val_loss: 0.2590 - val_accuracy: 0.9037\n",
            "Epoch 14/20\n",
            "469/469 [==============================] - 2s 5ms/step - loss: 0.2201 - accuracy: 0.9179 - val_loss: 0.2506 - val_accuracy: 0.9103\n",
            "Epoch 15/20\n",
            "469/469 [==============================] - 2s 4ms/step - loss: 0.2117 - accuracy: 0.9213 - val_loss: 0.2580 - val_accuracy: 0.9072\n",
            "Epoch 16/20\n",
            "469/469 [==============================] - 2s 5ms/step - loss: 0.2061 - accuracy: 0.9236 - val_loss: 0.2451 - val_accuracy: 0.9093\n",
            "Epoch 17/20\n",
            "469/469 [==============================] - 2s 5ms/step - loss: 0.2003 - accuracy: 0.9259 - val_loss: 0.2495 - val_accuracy: 0.9093\n",
            "Epoch 18/20\n",
            "469/469 [==============================] - 2s 5ms/step - loss: 0.1927 - accuracy: 0.9293 - val_loss: 0.2441 - val_accuracy: 0.9125\n",
            "Epoch 19/20\n",
            "469/469 [==============================] - 2s 5ms/step - loss: 0.1885 - accuracy: 0.9291 - val_loss: 0.2543 - val_accuracy: 0.9116\n",
            "Epoch 20/20\n",
            "469/469 [==============================] - 2s 5ms/step - loss: 0.1849 - accuracy: 0.9302 - val_loss: 0.2424 - val_accuracy: 0.9122\n"
          ]
        }
      ]
    },
    {
      "cell_type": "code",
      "source": [
        "model.evaluate(x_test, y_test, batch_size=1)"
      ],
      "metadata": {
        "id": "_1lRPc4BkkLc",
        "outputId": "fcc5e7cb-76e1-4782-fbef-375770f0e1ed",
        "colab": {
          "base_uri": "https://localhost:8080/"
        }
      },
      "execution_count": 112,
      "outputs": [
        {
          "output_type": "stream",
          "name": "stdout",
          "text": [
            "10000/10000 [==============================] - 30s 3ms/step - loss: 0.7123 - accuracy: 0.8987\n"
          ]
        },
        {
          "output_type": "execute_result",
          "data": {
            "text/plain": [
              "[0.7123371362686157, 0.8986999988555908]"
            ]
          },
          "metadata": {},
          "execution_count": 112
        }
      ]
    },
    {
      "cell_type": "code",
      "source": [
        "print(x_train.shape)\n",
        "print(y_train.shape)"
      ],
      "metadata": {
        "id": "1UVPjeMOlQRi",
        "outputId": "b1531d13-0702-4495-a1cf-d23509c91639",
        "colab": {
          "base_uri": "https://localhost:8080/"
        }
      },
      "execution_count": 111,
      "outputs": [
        {
          "output_type": "stream",
          "name": "stdout",
          "text": [
            "(60000, 28, 28)\n",
            "(60000, 10)\n"
          ]
        }
      ]
    },
    {
      "cell_type": "code",
      "source": [
        "ll = len(hist.history['accuracy'])\n",
        "ll"
      ],
      "metadata": {
        "id": "nD5cxtDPl5Z0",
        "outputId": "fa083e42-605a-47ea-fb1e-e0fac6758199",
        "colab": {
          "base_uri": "https://localhost:8080/"
        }
      },
      "execution_count": 118,
      "outputs": [
        {
          "output_type": "execute_result",
          "data": {
            "text/plain": [
              "20"
            ]
          },
          "metadata": {},
          "execution_count": 118
        }
      ]
    },
    {
      "cell_type": "code",
      "source": [
        "np.linspace(1,20,20)"
      ],
      "metadata": {
        "id": "tunMKnbDmX8i",
        "outputId": "17e8a0a5-f1e4-4708-8879-2352ff53f4d2",
        "colab": {
          "base_uri": "https://localhost:8080/"
        }
      },
      "execution_count": 120,
      "outputs": [
        {
          "output_type": "execute_result",
          "data": {
            "text/plain": [
              "array([1.])"
            ]
          },
          "metadata": {},
          "execution_count": 120
        }
      ]
    },
    {
      "cell_type": "code",
      "source": [
        "plt.plot(np.linspace(1,ll,20), hist.history['accuracy'], label='traning accuracy')\n",
        "plt.plot(np.linspace(1,ll,20), hist.history['val_accuracy'], label='validation accuracy')\n",
        "plt.legend()"
      ],
      "metadata": {
        "id": "G-Lze8LemM9p",
        "outputId": "3cbaa96e-869b-4877-9233-77f0588f2851",
        "colab": {
          "base_uri": "https://localhost:8080/",
          "height": 447
        }
      },
      "execution_count": 134,
      "outputs": [
        {
          "output_type": "execute_result",
          "data": {
            "text/plain": [
              "<matplotlib.legend.Legend at 0x78f75e3aea70>"
            ]
          },
          "metadata": {},
          "execution_count": 134
        },
        {
          "output_type": "display_data",
          "data": {
            "text/plain": [
              "<Figure size 640x480 with 1 Axes>"
            ],
            "image/png": "[encoded data removed]"
          },
          "metadata": {}
        }
      ]
    }
  ]
}